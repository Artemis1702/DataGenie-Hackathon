{
 "cells": [
  {
   "cell_type": "code",
   "execution_count": 227,
   "id": "ab313751",
   "metadata": {},
   "outputs": [],
   "source": [
    "import pandas as pd\n",
    "import numpy as np\n",
    "import matplotlib.pyplot as plt\n",
    "import statsmodels.api as sm\n",
    "from statsmodels.tsa.exponential_smoothing.ets import ETSModel\n",
    "import xgboost as xgb\n",
    "from sklearn.metrics import mean_absolute_percentage_error"
   ]
  },
  {
   "cell_type": "code",
   "execution_count": 228,
   "id": "706e55fd",
   "metadata": {},
   "outputs": [],
   "source": [
    "# Calculate MAPE values\n",
    "def calculate_mape(actual, predicted):\n",
    "    return np.mean(np.abs((actual - predicted) / actual)) * 100"
   ]
  },
  {
   "cell_type": "code",
   "execution_count": 229,
   "id": "1be3c637",
   "metadata": {},
   "outputs": [],
   "source": [
    "# Load the data\n",
    "data = pd.read_csv('C:\\\\Users\\\\tejas\\\\Desktop\\\\sample_1 daily.csv', parse_dates=['point_timestamp'], index_col='point_timestamp')\n",
    "\n",
    "# Set the frequency to daily\n",
    "\n",
    "data.index = pd.date_range(start=data.index.min(), end=data.index.max(), freq='D')\n",
    "\n",
    "\n",
    "data = data.drop('Unnamed: 0', axis = 1)\n",
    "\n",
    "\n",
    "train_data = data.iloc[:int(len(data)*0.8)] #First 80 % is train data"
   ]
  },
  {
   "cell_type": "code",
   "execution_count": 230,
   "id": "63bcf9dd",
   "metadata": {},
   "outputs": [],
   "source": [
    "# Arima \n",
    "def ARIM(start_date, end_date, data):\n",
    "    # last 20% of the data as testing data\n",
    "    test_data = data.iloc[int(len(data) * 0.8):]\n",
    "\n",
    "    # Fit the model\n",
    "    arima_model = sm.tsa.arima.ARIMA(train_data['point_value'], order=(1,1,1)) # using an autoregressive term of order 1, a differencing term of order 1, and a moving average term of order 1\n",
    "    arima_model = arima_model.fit()\n",
    "\n",
    "    # Generate predictions \n",
    "    \n",
    "    arima_pred = arima_model.predict(start=start_date, end=end_date, dynamic=False)\n",
    "#     arima_pred = arima_model.forecast(len(test_data))\n",
    "\n",
    "    # Calculate mean absolute percentage error (MAPE)\n",
    "    arima_mape = calculate_mape(test_data['point_value'], arima_pred)\n",
    "    return arima_mape\n",
    "#     print('MAPE:', arima_mape)"
   ]
  },
  {
   "cell_type": "code",
   "execution_count": 231,
   "id": "1b1e406d",
   "metadata": {},
   "outputs": [],
   "source": [
    "# SARIMA\n",
    "def SARIMA(data):\n",
    "    # last 20% of the data as testing data\n",
    "    test_data = data.iloc[int(len(data) * 0.8):]\n",
    "\n",
    "    # Fit the SARIMA model\n",
    "    sarima_model = sm.tsa.statespace.SARIMAX(train_data, order=(1, 1, 1), seasonal_order=(0, 0, 0, 7)) # 7 indicates that there is a daily seasonality in the data\n",
    "    sarima_model = sarima_model.fit()\n",
    "\n",
    "    # Make predictions\n",
    "    sarima_pred = sarima_model.forecast(len(test_data))\n",
    "\n",
    "    # Calculate MAPE\n",
    "    sarima_mape = calculate_mape(test_data['point_value'], sarima_pred)\n",
    "    return sarima_mape\n",
    "#     print('MAPE:', sarima_mape)"
   ]
  },
  {
   "cell_type": "code",
   "execution_count": 232,
   "id": "4fd6744b",
   "metadata": {},
   "outputs": [],
   "source": [
    "# XGBoost\n",
    "def XGBoost(data):\n",
    "    # last 20% of the data as testing data\n",
    "    test_data = data[int(len(data) * 0.8):]\n",
    "\n",
    "    # Define the features and target variable\n",
    "    features = ['point_value']\n",
    "    target = 'point_value'\n",
    "\n",
    "    # Train the XGBoost model\n",
    "    xgb_model = xgb.XGBRegressor()\n",
    "    xgb_model.fit(train_data[features], train_data[target])\n",
    "\n",
    "    # Make predictions on the test set\n",
    "    xgb_preds = xgb_model.predict(test_data[features])\n",
    "\n",
    "    # Calculate MAPE\n",
    "    xgb_mape = calculate_mape(test_data[target], xgb_preds)\n",
    "    return xgb_mape\n",
    "#     print('MAPE:', xgb_mape)"
   ]
  },
  {
   "cell_type": "code",
   "execution_count": 233,
   "id": "e121fd6a",
   "metadata": {},
   "outputs": [],
   "source": [
    "# ETS\n",
    "def ETS(data):\n",
    "    # last 20% of the data as testing data\n",
    "    test_data = data[int(len(data) * 0.8):]\n",
    "\n",
    "    # Create and fit the ETS model\n",
    "    ets_model = ETSModel(train_data['point_value'].astype(float), error='add', trend='add', seasonal='add', seasonal_periods=7)\n",
    "    ets_model = ets_model.fit()\n",
    "\n",
    "\n",
    "    # Make predictions on the test set\n",
    "    ets_pred = ets_model.predict(start=test_data.index[0], end=test_data.index[-1])\n",
    "\n",
    "    # Calculate MAPE\n",
    "    ets_mape = calculate_mape(test_data['point_value'], ets_pred)\n",
    "    return ets_mape\n",
    "#     print('MAPE:', ets_mape)"
   ]
  },
  {
   "cell_type": "code",
   "execution_count": 234,
   "id": "bc5d8207",
   "metadata": {},
   "outputs": [],
   "source": [
    "# Selection Algorithm\n",
    "# I am running all the above functions of the time series models and choosing least mape, the above functions are the \n",
    "# used in the selection algorithm\n",
    "def selection(start_date, end_date, data):\n",
    "    # Choose the model with the lowest MAPE\n",
    "    arima_mape = ARIM(start_date, end_date, data)\n",
    "    sarima_mape = SARIMA(data)\n",
    "    xgb_mape = XGBoost(data)\n",
    "    ets_mape = ETS(data)\n",
    "    mape_values = {\"ARIMA\": arima_mape, \"SARIMA\": sarima_mape, \"XGBoost\": xgb_mape, \"ETS\": ets_mape}\n",
    "    best_model = min(mape_values, key=mape_values.get)\n",
    "    return best_model\n",
    "\n",
    "# print(\"The best model is: \", best_model)\n"
   ]
  },
  {
   "cell_type": "code",
   "execution_count": 239,
   "id": "a31f62f1",
   "metadata": {},
   "outputs": [],
   "source": [
    " # Predict for test data using Best model and plot\n",
    "\n",
    "def prediction(start_date, end_date, best_model, data) :\n",
    "    train_data = data.iloc[:int(len(data)*0.8)] #First 80 % is train data\n",
    "    test_data = data[int(len(data) * 0.8):] # Last 20% is test\n",
    "\n",
    "    # test_train_split can also be used\n",
    "\n",
    "    if best_model == 'ARIMA':\n",
    "        arima_model = sm.tsa.arima.ARIMA(train_data['point_value'], order=(1,1,1)) # using an autoregressive term of order 1, a differencing term of order 1, and a moving average term of order 1\n",
    "        arima_model = arima_model.fit()\n",
    "\n",
    "        # Generate predictions \n",
    "        \n",
    "        pred = arima_model.predict(start=start_date, end=end_date, dynamic=False)\n",
    "#         pred = arima_model.forecast(len(test_data))\n",
    "\n",
    "        # Calculate mean absolute percentage error (MAPE)\n",
    "        mape = calculate_mape(test_data['point_value'], pred)\n",
    "#         print('MAPE:', mape)\n",
    "    elif best_model == 'SARIMA':\n",
    "        # Fit the SARIMA model\n",
    "        sarima_model = sm.tsa.statespace.SARIMAX(train_data, order=(1, 1, 1), seasonal_order=(0, 0, 0, 7)) # 7 indicates that there is a daily seasonality in the data\n",
    "        sarima_model = sarima_model.fit()\n",
    "\n",
    "        # Make predictions\n",
    "        pred = sarima_model.forecast(len(test_data))\n",
    "\n",
    "        # Calculate MAPE\n",
    "        mape = calculate_mape(test_data['point_value'], pred)\n",
    "#         print('MAPE:', mape)\n",
    "    elif best_model == 'XGBoost':\n",
    "        # Define the features and target variable\n",
    "        features = ['point_value']\n",
    "        target = 'point_value'\n",
    "\n",
    "        # Train the XGBoost model\n",
    "        xgb_model = xgb.XGBRegressor()\n",
    "        xgb_model.fit(train_data[features], train_data[target])\n",
    "\n",
    "        # Make predictions on the test set\n",
    "        pred = xgb_model.predict(test_data[features])\n",
    "\n",
    "        # Calculate MAPE\n",
    "        mape = calculate_mape(test_data[target], pred)\n",
    "#         print('MAPE:', mape)\n",
    "    elif best_model == 'ETS':\n",
    "        # Create and fit the ETS model\n",
    "        ets_model = ETSModel(train_data['point_value'].astype(float), error='add', trend='add', seasonal='add', seasonal_periods=7)\n",
    "        ets_model = ets_model.fit()\n",
    "\n",
    "\n",
    "        # Make predictions on the test set\n",
    "        pred = result.predict(start=test_data.index[0], end=test_data.index[-1])\n",
    "\n",
    "        # Calculate MAPE\n",
    "        mape = calculate_mape(test_data['point_value'], pred)\n",
    "#         print('MAPE:', mape)\n",
    "#     print(pred)\n",
    "    df = data[int(len(data) * 0.75):]\n",
    "    plt.plot(df.index, df.values, label='actual')\n",
    "    plt.plot(test_data.index, pred, label='predicted')\n",
    "    plt.legend()\n",
    "    plt.show()\n",
    "    return mape\n"
   ]
  },
  {
   "cell_type": "code",
   "execution_count": 240,
   "id": "c07aed61",
   "metadata": {},
   "outputs": [],
   "source": [
    "# This is the connecter function which gives me all the desired outputs needed for FAST API\n",
    "def connect(start_date, end_date):\n",
    "    data1 = data.loc[start_date:end_date]\n",
    "    best = selection(start_date, end_date, data1)\n",
    "    ma = prediction(start_date, end_date, best, data1)\n",
    "    print(best,ma)"
   ]
  },
  {
   "cell_type": "code",
   "execution_count": 242,
   "id": "bd21fab0",
   "metadata": {},
   "outputs": [
    {
     "data": {
      "image/png": "[encoded data removed]",
      "text/plain": [
       "<Figure size 432x288 with 1 Axes>"
      ]
     },
     "metadata": {
      "needs_background": "light"
     },
     "output_type": "display_data"
    },
    {
     "name": "stdout",
     "output_type": "stream",
     "text": [
      "XGBoost 0.00036754864174247485\n"
     ]
    }
   ],
   "source": [
    "connect('2019-07-17', '2021-07-27')"
   ]
  },
  {
   "cell_type": "code",
   "execution_count": null,
   "id": "b31c6aa3",
   "metadata": {},
   "outputs": [],
   "source": []
  }
 ],
 "metadata": {
  "kernelspec": {
   "display_name": "Python 3",
   "language": "python",
   "name": "python3"
  },
  "language_info": {
   "codemirror_mode": {
    "name": "ipython",
    "version": 3
   },
   "file_extension": ".py",
   "mimetype": "text/x-python",
   "name": "python",
   "nbconvert_exporter": "python",
   "pygments_lexer": "ipython3",
   "version": "3.8.8"
  }
 },
 "nbformat": 4,
 "nbformat_minor": 5
}
