{
 "cells": [
  {
   "cell_type": "code",
   "execution_count": 3,
   "id": "7bf38719",
   "metadata": {},
   "outputs": [
    {
     "name": "stdout",
     "output_type": "stream",
     "text": [
      "Collecting xgboost\n",
      "  Downloading xgboost-1.7.4-py3-none-win_amd64.whl (89.1 MB)\n",
      "Requirement already satisfied: scipy in c:\\users\\tejas\\anaconda3\\lib\\site-packages (from xgboost) (1.6.2)\n",
      "Requirement already satisfied: numpy in c:\\users\\tejas\\anaconda3\\lib\\site-packages (from xgboost) (1.20.1)\n",
      "Installing collected packages: xgboost\n",
      "Successfully installed xgboost-1.7.4\n",
      "Note: you may need to restart the kernel to use updated packages.\n"
     ]
    }
   ],
   "source": [
    "pip install xgboost"
   ]
  },
  {
   "cell_type": "code",
   "execution_count": 34,
   "id": "ab313751",
   "metadata": {},
   "outputs": [],
   "source": [
    "import pandas as pd\n",
    "import numpy as np\n",
    "import matplotlib.pyplot as plt\n",
    "import statsmodels.api as sm\n",
    "from statsmodels.tsa.exponential_smoothing.ets import ETSModel\n",
    "import xgboost as xgb\n",
    "from sklearn.metrics import mean_absolute_percentage_error"
   ]
  },
  {
   "cell_type": "code",
   "execution_count": 27,
   "id": "f43bb576",
   "metadata": {},
   "outputs": [],
   "source": [
    "# Calculate MAPE values\n",
    "def calculate_mape(actual, predicted):\n",
    "    return np.mean(np.abs((actual - predicted) / actual)) * 100"
   ]
  },
  {
   "cell_type": "code",
   "execution_count": 28,
   "id": "57af473c",
   "metadata": {},
   "outputs": [],
   "source": [
    "# Load the data\n",
    "data = pd.read_csv('C:\\\\Users\\\\tejas\\\\Desktop\\\\sample_1 daily.csv', parse_dates=['point_timestamp'], index_col='point_timestamp')\n",
    "\n",
    "# Set the frequency to daily\n",
    "data.index = pd.date_range(start=data.index.min(), end=data.index.max(), freq='D')\n",
    "\n",
    "data = data.drop('Unnamed: 0', axis = 1)\n",
    "\n",
    "\n",
    "train_data = data.iloc[:int(len(data)*0.8)] #First 80 % is train data"
   ]
  },
  {
   "cell_type": "code",
   "execution_count": 29,
   "id": "18438cc2",
   "metadata": {},
   "outputs": [
    {
     "name": "stdout",
     "output_type": "stream",
     "text": [
      "MAPE: 4.475284932821783\n"
     ]
    }
   ],
   "source": [
    "# Arima \n",
    "\n",
    "# Fit the model\n",
    "order = (1, 1, 1) # using an autoregressive term of order 1, a differencing term of order 1, and a moving average term of order 1\n",
    "model = sm.tsa.arima.ARIMA(train_data['point_value'], order=order)\n",
    "results = model.fit()\n",
    "\n",
    "# Generate predictions I am using the last 20% of the data as testing data\n",
    "start_date = '2021-03-01'\n",
    "end_date = '2021-07-27'\n",
    "preds = results.predict(start=start_date, end=end_date, dynamic=False)\n",
    "\n",
    "# Calculate mean absolute percentage error (MAPE)\n",
    "actuals = data.loc[start_date:end_date, 'point_value']\n",
    "mape = calculate_mape(actuals, preds)\n",
    "print('MAPE:', mape)"
   ]
  },
  {
   "cell_type": "code",
   "execution_count": 30,
   "id": "20df8f97",
   "metadata": {},
   "outputs": [
    {
     "name": "stdout",
     "output_type": "stream",
     "text": [
      "MAPE: 0.00035922799334430156\n"
     ]
    }
   ],
   "source": [
    "# XGBoost\n",
    "\n",
    "test_data = data[int(len(data) * 0.8):]\n",
    "\n",
    "# Define the features and target variable\n",
    "features = ['point_value']\n",
    "target = 'point_value'\n",
    "\n",
    "# Train the XGBoost model\n",
    "xgb_model = xgb.XGBRegressor()\n",
    "xgb_model.fit(train_data[features], train_data[target])\n",
    "\n",
    "# Make predictions on the test set\n",
    "xgb_preds = xgb_model.predict(test_data[features])\n",
    "\n",
    "# Calculate MAPE\n",
    "mape = calculate_mape(test_data[target], xgb_preds)\n",
    "print('MAPE:', mape)"
   ]
  },
  {
   "cell_type": "code",
   "execution_count": 44,
   "id": "7b910078",
   "metadata": {},
   "outputs": [
    {
     "name": "stdout",
     "output_type": "stream",
     "text": [
      "MAPE: 5.817248236743588\n"
     ]
    }
   ],
   "source": [
    "# ETS\n",
    "\n",
    "test_data = data[int(len(data) * 0.8):]\n",
    "\n",
    "# Create and fit the ETS model\n",
    "model = ETSModel(train_data['point_value'].astype(float), error='add', trend='add', seasonal='add', seasonal_periods=7)\n",
    "result = model.fit()\n",
    "\n",
    "\n",
    "# Make predictions on the test set\n",
    "predictions = result.predict(start=test_data.index[0], end=test_data.index[-1])\n",
    "\n",
    "# Calculate MAPE\n",
    "mape = calculate_mape(test_data['point_value'], predictions)\n",
    "print('MAPE:', mape)"
   ]
  },
  {
   "cell_type": "code",
   "execution_count": null,
   "id": "f18681e2",
   "metadata": {},
   "outputs": [],
   "source": []
  }
 ],
 "metadata": {
  "kernelspec": {
   "display_name": "Python 3",
   "language": "python",
   "name": "python3"
  },
  "language_info": {
   "codemirror_mode": {
    "name": "ipython",
    "version": 3
   },
   "file_extension": ".py",
   "mimetype": "text/x-python",
   "name": "python",
   "nbconvert_exporter": "python",
   "pygments_lexer": "ipython3",
   "version": "3.8.8"
  }
 },
 "nbformat": 4,
 "nbformat_minor": 5
}
