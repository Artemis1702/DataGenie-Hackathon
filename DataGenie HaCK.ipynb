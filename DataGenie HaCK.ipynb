{
 "cells": [
  {
   "cell_type": "code",
   "execution_count": 20,
   "id": "ab313751",
   "metadata": {},
   "outputs": [],
   "source": [
    "import pandas as pd\n",
    "import numpy as np\n",
    "import matplotlib.pyplot as plt\n",
    "import statsmodels.api as sm\n",
    "from statsmodels.tsa.exponential_smoothing.ets import ETSModel\n",
    "import xgboost as xgb\n",
    "from sklearn.preprocessing import MinMaxScaler\n",
    "from tensorflow.keras.models import Sequential\n",
    "from tensorflow.keras.layers import Dense, LSTM"
   ]
  },
  {
   "cell_type": "code",
   "execution_count": 21,
   "id": "62d75824",
   "metadata": {},
   "outputs": [],
   "source": [
    "# Calculate MAPE values\n",
    "def calculate_mape(actual, predicted):\n",
    "    return np.mean(np.abs((actual - predicted) / actual)) * 100"
   ]
  },
  {
   "cell_type": "code",
   "execution_count": 22,
   "id": "19ce8bb0",
   "metadata": {},
   "outputs": [],
   "source": [
    "# Load the data\n",
    "data = pd.read_csv('C:\\\\Users\\\\tejas\\\\Desktop\\\\sample_1 daily.csv', parse_dates=['point_timestamp'], index_col='point_timestamp')\n",
    "\n",
    "# Set the frequency to daily\n",
    "data.index = pd.date_range(start=data.index.min(), end=data.index.max(), freq='D')\n",
    "\n",
    "data = data.drop('Unnamed: 0', axis = 1)\n",
    "\n",
    "\n",
    "train_data = data.iloc[:int(len(data)*0.8)] #First 80 % is train data"
   ]
  },
  {
   "cell_type": "code",
   "execution_count": 28,
   "id": "5a2fc814",
   "metadata": {},
   "outputs": [
    {
     "name": "stdout",
     "output_type": "stream",
     "text": [
      "MAPE: 4.4752859491734\n"
     ]
    }
   ],
   "source": [
    "# Arima \n",
    "\n",
    "# last 20% of the data as testing data\n",
    "test_data = data.iloc[int(len(data) * 0.8):]\n",
    "\n",
    "# Fit the model\n",
    "arima_model = sm.tsa.arima.ARIMA(train_data['point_value'], order=(1,1,1)) # using an autoregressive term of order 1, a differencing term of order 1, and a moving average term of order 1\n",
    "arima_model = arima_model.fit()\n",
    "\n",
    "# Generate predictions I am using the last 20% of the data as testing data\n",
    "\n",
    "arima_pred = arima_model.forecast(len(test_data))\n",
    "\n",
    "# Calculate mean absolute percentage error (MAPE)\n",
    "arima_mape = calculate_mape(test_data['point_value'], arima_pred)\n",
    "print('MAPE:', arima_mape)"
   ]
  },
  {
   "cell_type": "code",
   "execution_count": 30,
   "id": "0660be26",
   "metadata": {},
   "outputs": [
    {
     "name": "stdout",
     "output_type": "stream",
     "text": [
      "MAPE: 4.4752859491734\n"
     ]
    }
   ],
   "source": [
    "# SARIMA\n",
    "\n",
    "# last 20% of the data as testing data\n",
    "test_data = data.iloc[int(len(data) * 0.8):]\n",
    "\n",
    "# Fit the SARIMA model\n",
    "sarima_model = sm.tsa.statespace.SARIMAX(train_data, order=(1, 1, 1), seasonal_order=(0, 0, 0, 7)) # 7 indicates that there is a daily seasonality in the data\n",
    "sarima_model = sarima_model.fit()\n",
    "\n",
    "# Make predictions\n",
    "sarima_pred = sarima_model.forecast(len(test_data))\n",
    "\n",
    "# Calculate MAPE\n",
    "sarima_mape = calculate_mape(test_data['point_value'], sarima_pred)\n",
    "print('MAPE:', sarima_mape)"
   ]
  },
  {
   "cell_type": "code",
   "execution_count": 31,
   "id": "90dff984",
   "metadata": {},
   "outputs": [
    {
     "name": "stdout",
     "output_type": "stream",
     "text": [
      "MAPE: 0.00035922799334430156\n"
     ]
    }
   ],
   "source": [
    "# XGBoost\n",
    "\n",
    "# last 20% of the data as testing data\n",
    "test_data = data[int(len(data) * 0.8):]\n",
    "\n",
    "# Define the features and target variable\n",
    "features = ['point_value']\n",
    "target = 'point_value'\n",
    "\n",
    "# Train the XGBoost model\n",
    "xgb_model = xgb.XGBRegressor()\n",
    "xgb_model.fit(train_data[features], train_data[target])\n",
    "\n",
    "# Make predictions on the test set\n",
    "xgb_preds = xgb_model.predict(test_data[features])\n",
    "\n",
    "# Calculate MAPE\n",
    "xgb_mape = calculate_mape(test_data[target], xgb_preds)\n",
    "print('MAPE:', xgb_mape)"
   ]
  },
  {
   "cell_type": "code",
   "execution_count": 33,
   "id": "0b7cf110",
   "metadata": {},
   "outputs": [
    {
     "name": "stdout",
     "output_type": "stream",
     "text": [
      "MAPE: 5.818020742178061\n"
     ]
    }
   ],
   "source": [
    "# ETS\n",
    "\n",
    "# last 20% of the data as testing data\n",
    "test_data = data[int(len(data) * 0.8):]\n",
    "\n",
    "# Create and fit the ETS model\n",
    "ets_model = ETSModel(train_data['point_value'].astype(float), error='add', trend='add', seasonal='add', seasonal_periods=7)\n",
    "ets_model = ets_model.fit()\n",
    "\n",
    "\n",
    "# Make predictions on the test set\n",
    "ets_pred = result.predict(start=test_data.index[0], end=test_data.index[-1])\n",
    "\n",
    "# Calculate MAPE\n",
    "ets_mape = calculate_mape(test_data['point_value'], ets_pred)\n",
    "print('MAPE:', ets_mape)"
   ]
  },
  {
   "cell_type": "code",
   "execution_count": 34,
   "id": "477d2dc2",
   "metadata": {},
   "outputs": [
    {
     "name": "stdout",
     "output_type": "stream",
     "text": [
      "The best model is:  XGBoost\n"
     ]
    }
   ],
   "source": [
    "# Selection Algorithm\n",
    "\n",
    "# Choose the model with the lowest MAPE\n",
    "mape_values = {\"ARIMA\": arima_mape, \"SARIMA\": sarima_mape, \"XGBoost\": xgb_mape, \"ETS\": ets_mape}\n",
    "best_model = min(mape_values, key=mape_values.get)\n",
    "\n",
    "print(\"The best model is: \", best_model)\n"
   ]
  },
  {
   "cell_type": "code",
   "execution_count": null,
   "id": "8518f9e0",
   "metadata": {},
   "outputs": [],
   "source": []
  }
 ],
 "metadata": {
  "kernelspec": {
   "display_name": "Python 3",
   "language": "python",
   "name": "python3"
  },
  "language_info": {
   "codemirror_mode": {
    "name": "ipython",
    "version": 3
   },
   "file_extension": ".py",
   "mimetype": "text/x-python",
   "name": "python",
   "nbconvert_exporter": "python",
   "pygments_lexer": "ipython3",
   "version": "3.8.8"
  }
 },
 "nbformat": 4,
 "nbformat_minor": 5
}
