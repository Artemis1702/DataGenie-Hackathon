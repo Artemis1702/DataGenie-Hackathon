{
 "cells": [
  {
   "cell_type": "code",
   "execution_count": 54,
   "id": "ab313751",
   "metadata": {},
   "outputs": [],
   "source": [
    "import pandas as pd\n",
    "import numpy as np\n",
    "import matplotlib.pyplot as plt\n",
    "import statsmodels.api as sm\n",
    "from sklearn.metrics import mean_absolute_percentage_error"
   ]
  },
  {
   "cell_type": "code",
   "execution_count": 28,
   "id": "f3431ffb",
   "metadata": {},
   "outputs": [],
   "source": [
    "# Calculate MAPE values\n",
    "def calculate_mape(actual, predicted):\n",
    "    return np.mean(np.abs((actual - predicted) / actual)) * 100"
   ]
  },
  {
   "cell_type": "code",
   "execution_count": 69,
   "id": "0f45b87a",
   "metadata": {},
   "outputs": [],
   "source": [
    "# Arima\n",
    "# Load the data\n",
    "data = pd.read_csv('C:\\\\Users\\\\tejas\\\\Desktop\\\\DataGenie\\\\sample_1 daily.csv', parse_dates=['point_timestamp'], index_col='point_timestamp')\n",
    "\n",
    "# Set the frequency to daily\n",
    "data.index = pd.date_range(start=data.index.min(), end=data.index.max(), freq='D')\n",
    "\n",
    "data.head()\n",
    "data = data.drop('Unnamed: 0', axis = 1)\n",
    "\n",
    "\n",
    "train_data = data.iloc[:int(len(data)*0.8)] #First 80 % is train data"
   ]
  },
  {
   "cell_type": "code",
   "execution_count": 70,
   "id": "335ac278",
   "metadata": {},
   "outputs": [
    {
     "name": "stdout",
     "output_type": "stream",
     "text": [
      "MAPE: 4.475284932821783\n"
     ]
    }
   ],
   "source": [
    "# Fit the model\n",
    "order = (1, 1, 1) # using an autoregressive term of order 1, a differencing term of order 1, and a moving average term of order 1\n",
    "model = sm.tsa.arima.ARIMA(train_data['point_value'], order=order)\n",
    "results = model.fit()\n",
    "\n",
    "# Generate predictions I am using the last 20% of the data as testing data\n",
    "start_date = '2021-03-01'\n",
    "end_date = '2021-07-27'\n",
    "preds = results.predict(start=start_date, end=end_date, dynamic=False)\n",
    "\n",
    "# Calculate mean absolute percentage error (MAPE)\n",
    "actuals = data.loc[start_date:end_date, 'point_value']\n",
    "mape = calculate_mape(actuals, preds)\n",
    "print('MAPE:', mape)"
   ]
  },
  {
   "cell_type": "code",
   "execution_count": null,
   "id": "99606de1",
   "metadata": {},
   "outputs": [],
   "source": []
  }
 ],
 "metadata": {
  "kernelspec": {
   "display_name": "Python 3",
   "language": "python",
   "name": "python3"
  },
  "language_info": {
   "codemirror_mode": {
    "name": "ipython",
    "version": 3
   },
   "file_extension": ".py",
   "mimetype": "text/x-python",
   "name": "python",
   "nbconvert_exporter": "python",
   "pygments_lexer": "ipython3",
   "version": "3.8.8"
  }
 },
 "nbformat": 4,
 "nbformat_minor": 5
}
