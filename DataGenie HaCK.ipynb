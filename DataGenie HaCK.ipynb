{
 "cells": [
  {
   "cell_type": "code",
   "execution_count": 38,
   "id": "ab313751",
   "metadata": {},
   "outputs": [],
   "source": [
    "import pandas as pd\n",
    "import numpy as np\n",
    "import matplotlib.pyplot as plt\n",
    "import statsmodels.api as sm\n",
    "from statsmodels.tsa.exponential_smoothing.ets import ETSModel\n",
    "import xgboost as xgb\n",
    "from sklearn.metrics import mean_absolute_percentage_error"
   ]
  },
  {
   "cell_type": "code",
   "execution_count": 39,
   "id": "b19326c7",
   "metadata": {},
   "outputs": [],
   "source": [
    "# Calculate MAPE values\n",
    "def calculate_mape(actual, predicted):\n",
    "    return np.mean(np.abs((actual - predicted) / actual)) * 100"
   ]
  },
  {
   "cell_type": "code",
   "execution_count": 40,
   "id": "d4ba9d22",
   "metadata": {},
   "outputs": [],
   "source": [
    "# Load the data\n",
    "data = pd.read_csv('C:\\\\Users\\\\tejas\\\\Desktop\\\\sample_1 daily.csv', parse_dates=['point_timestamp'], index_col='point_timestamp')\n",
    "\n",
    "# Set the frequency to daily\n",
    "data.index = pd.date_range(start=data.index.min(), end=data.index.max(), freq='D')\n",
    "\n",
    "data = data.drop('Unnamed: 0', axis = 1)\n",
    "\n",
    "\n",
    "train_data = data.iloc[:int(len(data)*0.8)] #First 80 % is train data"
   ]
  },
  {
   "cell_type": "code",
   "execution_count": 41,
   "id": "5b0da337",
   "metadata": {},
   "outputs": [
    {
     "name": "stdout",
     "output_type": "stream",
     "text": [
      "MAPE: 4.4752859491734\n"
     ]
    }
   ],
   "source": [
    "# Arima \n",
    "\n",
    "# last 20% of the data as testing data\n",
    "test_data = data.iloc[int(len(data) * 0.8):]\n",
    "\n",
    "# Fit the model\n",
    "arima_model = sm.tsa.arima.ARIMA(train_data['point_value'], order=(1,1,1)) # using an autoregressive term of order 1, a differencing term of order 1, and a moving average term of order 1\n",
    "arima_model = arima_model.fit()\n",
    "\n",
    "# Generate predictions \n",
    "\n",
    "arima_pred = arima_model.forecast(len(test_data))\n",
    "\n",
    "# Calculate mean absolute percentage error (MAPE)\n",
    "arima_mape = calculate_mape(test_data['point_value'], arima_pred)\n",
    "print('MAPE:', arima_mape)"
   ]
  },
  {
   "cell_type": "code",
   "execution_count": 42,
   "id": "616b31b9",
   "metadata": {},
   "outputs": [
    {
     "name": "stdout",
     "output_type": "stream",
     "text": [
      "MAPE: 4.4752859491734\n"
     ]
    }
   ],
   "source": [
    "# SARIMA\n",
    "\n",
    "# last 20% of the data as testing data\n",
    "test_data = data.iloc[int(len(data) * 0.8):]\n",
    "\n",
    "# Fit the SARIMA model\n",
    "sarima_model = sm.tsa.statespace.SARIMAX(train_data, order=(1, 1, 1), seasonal_order=(0, 0, 0, 7)) # 7 indicates that there is a daily seasonality in the data\n",
    "sarima_model = sarima_model.fit()\n",
    "\n",
    "# Make predictions\n",
    "sarima_pred = sarima_model.forecast(len(test_data))\n",
    "\n",
    "# Calculate MAPE\n",
    "sarima_mape = calculate_mape(test_data['point_value'], sarima_pred)\n",
    "print('MAPE:', sarima_mape)"
   ]
  },
  {
   "cell_type": "code",
   "execution_count": 43,
   "id": "45aee626",
   "metadata": {},
   "outputs": [
    {
     "name": "stdout",
     "output_type": "stream",
     "text": [
      "MAPE: 0.00035922799334430156\n"
     ]
    }
   ],
   "source": [
    "# XGBoost\n",
    "\n",
    "# last 20% of the data as testing data\n",
    "test_data = data[int(len(data) * 0.8):]\n",
    "\n",
    "# Define the features and target variable\n",
    "features = ['point_value']\n",
    "target = 'point_value'\n",
    "\n",
    "# Train the XGBoost model\n",
    "xgb_model = xgb.XGBRegressor()\n",
    "xgb_model.fit(train_data[features], train_data[target])\n",
    "\n",
    "# Make predictions on the test set\n",
    "xgb_preds = xgb_model.predict(test_data[features])\n",
    "\n",
    "# Calculate MAPE\n",
    "xgb_mape = calculate_mape(test_data[target], xgb_preds)\n",
    "print('MAPE:', xgb_mape)"
   ]
  },
  {
   "cell_type": "code",
   "execution_count": 44,
   "id": "3054cb70",
   "metadata": {},
   "outputs": [
    {
     "name": "stdout",
     "output_type": "stream",
     "text": [
      "MAPE: 5.818020742178061\n"
     ]
    }
   ],
   "source": [
    "# ETS\n",
    "\n",
    "# last 20% of the data as testing data\n",
    "test_data = data[int(len(data) * 0.8):]\n",
    "\n",
    "# Create and fit the ETS model\n",
    "ets_model = ETSModel(train_data['point_value'].astype(float), error='add', trend='add', seasonal='add', seasonal_periods=7)\n",
    "ets_model = ets_model.fit()\n",
    "\n",
    "\n",
    "# Make predictions on the test set\n",
    "ets_pred = result.predict(start=test_data.index[0], end=test_data.index[-1])\n",
    "\n",
    "# Calculate MAPE\n",
    "ets_mape = calculate_mape(test_data['point_value'], ets_pred)\n",
    "print('MAPE:', ets_mape)"
   ]
  },
  {
   "cell_type": "code",
   "execution_count": 45,
   "id": "dad8437c",
   "metadata": {},
   "outputs": [
    {
     "name": "stdout",
     "output_type": "stream",
     "text": [
      "The best model is:  XGBoost\n"
     ]
    }
   ],
   "source": [
    "# Selection Algorithm\n",
    "# I am choosing manually, an ml algorith can be made by doing what i did above as a function and then calling all four once \n",
    "# for the given data and then getting best model by getting least mape. \n",
    "\n",
    "# Choose the model with the lowest MAPE\n",
    "mape_values = {\"ARIMA\": arima_mape, \"SARIMA\": sarima_mape, \"XGBoost\": xgb_mape, \"ETS\": ets_mape}\n",
    "best_model = min(mape_values, key=mape_values.get)\n",
    "\n",
    "print(\"The best model is: \", best_model)\n"
   ]
  },
  {
   "cell_type": "code",
   "execution_count": 46,
   "id": "7e00ba3d",
   "metadata": {},
   "outputs": [
    {
     "name": "stdout",
     "output_type": "stream",
     "text": [
      "MAPE: 0.00035922799334430156\n"
     ]
    }
   ],
   "source": [
    "# Predict for test data using Best model and plot\n",
    "\n",
    "train_data = data.iloc[:int(len(data)*0.8)] #First 80 % is train data\n",
    "test_data = data[int(len(data) * 0.8):] # Last 20% is test\n",
    "\n",
    "# test_train_split can also be used\n",
    "\n",
    "if best_model == 'ARIMA':\n",
    "    arima_model = sm.tsa.arima.ARIMA(train_data['point_value'], order=(1,1,1)) # using an autoregressive term of order 1, a differencing term of order 1, and a moving average term of order 1\n",
    "    arima_model = arima_model.fit()\n",
    "\n",
    "    # Generate predictions \n",
    "\n",
    "    arima_pred = arima_model.forecast(len(test_data))\n",
    "\n",
    "    # Calculate mean absolute percentage error (MAPE)\n",
    "    arima_mape = calculate_mape(test_data['point_value'], arima_pred)\n",
    "    print('MAPE:', arima_mape)\n",
    "elif best_model == 'SARIMA':\n",
    "    # Fit the SARIMA model\n",
    "    sarima_model = sm.tsa.statespace.SARIMAX(train_data, order=(1, 1, 1), seasonal_order=(0, 0, 0, 7)) # 7 indicates that there is a daily seasonality in the data\n",
    "    sarima_model = sarima_model.fit()\n",
    "\n",
    "    # Make predictions\n",
    "    sarima_pred = sarima_model.forecast(len(test_data))\n",
    "\n",
    "    # Calculate MAPE\n",
    "    sarima_mape = calculate_mape(test_data['point_value'], sarima_pred)\n",
    "    print('MAPE:', sarima_mape)\n",
    "elif best_model == 'XGBoost':\n",
    "    # Define the features and target variable\n",
    "    features = ['point_value']\n",
    "    target = 'point_value'\n",
    "\n",
    "    # Train the XGBoost model\n",
    "    xgb_model = xgb.XGBRegressor()\n",
    "    xgb_model.fit(train_data[features], train_data[target])\n",
    "\n",
    "    # Make predictions on the test set\n",
    "    xgb_preds = xgb_model.predict(test_data[features])\n",
    "\n",
    "    # Calculate MAPE\n",
    "    xgb_mape = calculate_mape(test_data[target], xgb_preds)\n",
    "    print('MAPE:', xgb_mape)\n",
    "elif best_model == 'ETS':\n",
    "    # Create and fit the ETS model\n",
    "    ets_model = ETSModel(train_data['point_value'].astype(float), error='add', trend='add', seasonal='add', seasonal_periods=7)\n",
    "    ets_model = ets_model.fit()\n",
    "\n",
    "\n",
    "    # Make predictions on the test set\n",
    "    ets_pred = result.predict(start=test_data.index[0], end=test_data.index[-1])\n",
    "\n",
    "    # Calculate MAPE\n",
    "    ets_mape = calculate_mape(test_data['point_value'], ets_pred)\n",
    "    print('MAPE:', ets_mape)\n"
   ]
  },
  {
   "cell_type": "code",
   "execution_count": 50,
   "id": "bc8bc0b5",
   "metadata": {},
   "outputs": [
    {
     "data": {
      "image/png": "[encoded data removed]",
      "text/plain": [
       "<Figure size 432x288 with 1 Axes>"
      ]
     },
     "metadata": {
      "needs_background": "light"
     },
     "output_type": "display_data"
    }
   ],
   "source": [
    "df = data[int(len(data) * 0.75):]\n",
    "plt.plot(df.index, df.values, label='actual')\n",
    "plt.plot(test_data.index, predictions, label='predicted')\n",
    "plt.legend()\n",
    "plt.show()"
   ]
  },
  {
   "cell_type": "code",
   "execution_count": null,
   "id": "72d81b01",
   "metadata": {},
   "outputs": [],
   "source": []
  }
 ],
 "metadata": {
  "kernelspec": {
   "display_name": "Python 3",
   "language": "python",
   "name": "python3"
  },
  "language_info": {
   "codemirror_mode": {
    "name": "ipython",
    "version": 3
   },
   "file_extension": ".py",
   "mimetype": "text/x-python",
   "name": "python",
   "nbconvert_exporter": "python",
   "pygments_lexer": "ipython3",
   "version": "3.8.8"
  }
 },
 "nbformat": 4,
 "nbformat_minor": 5
}
